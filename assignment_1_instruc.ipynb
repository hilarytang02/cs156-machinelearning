{
 "cells": [
  {
   "cell_type": "markdown",
   "metadata": {},
   "source": [
    "Assignment 1:\n",
    "\n",
    "In this first assignment, you'll build a simple pipeline based on data from your personal archive. \n",
    "\n",
    "While this is open ended, for the first assignment I recommend choosing something simple. \n",
    "\n",
    "You'l have chances to be more creative in the second and third assignments. \n",
    "\n",
    "Here are a few examples:\n",
    "\n",
    "- Images--Build a logistic regression to classify photos taken in SF vs. Seoul.\n",
    "- Text--Build a naïve Bayes classifier to classify assignments from different classes.\n",
    "- Audio--Use a neural network to classify music genres.\n"
   ]
  },
  {
   "cell_type": "markdown",
   "metadata": {},
   "source": []
  }
 ],
 "metadata": {
  "language_info": {
   "name": "python"
  }
 },
 "nbformat": 4,
 "nbformat_minor": 2
}
